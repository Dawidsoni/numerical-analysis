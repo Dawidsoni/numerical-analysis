{
 "cells": [
  {
   "cell_type": "markdown",
   "metadata": {},
   "source": [
    "# Wyznaczanie macierzy odwrotnej za pomocą rozkładów QR oraz LU\n",
    "\n",
    "Poniższe przykłady porównują metody wyznaczenia macierzy odwrotnej za pomocą rozkładu QR (ortogonalizacja Grama-Schmidta, transformacje Householdera oraz rotacje Givensa) oraz rozkładu LU."
   ]
  },
  {
   "cell_type": "code",
   "execution_count": null,
   "metadata": {
    "collapsed": false
   },
   "outputs": [],
   "source": [
    "include(\"program.jl\")"
   ]
  },
  {
   "cell_type": "markdown",
   "metadata": {},
   "source": [
    "### 1. Porównanie czasu działania"
   ]
  },
  {
   "cell_type": "code",
   "execution_count": null,
   "metadata": {
    "collapsed": false
   },
   "outputs": [],
   "source": [
    "testRange = 100:20:200\n",
    "iterCount = 100\n",
    "println(\"Poniżej porównano czasy działania poszczególnych metod dla 100 losowych macierzy\")\n",
    "timeTest(LUP_METHOD, testRange, iterCount)\n",
    "println()\n",
    "timeTest(QR_GRAM, testRange, iterCount)\n",
    "println()\n",
    "timeTest(QR_HOUSEHOLDER, testRange, iterCount)\n",
    "println()\n",
    "timeTest(QR_GIVENS, testRange, iterCount)"
   ]
  },
  {
   "cell_type": "markdown",
   "metadata": {},
   "source": [
    "### 2. Porównanie precyzji wyznaczenia - losowe macierze"
   ]
  },
  {
   "cell_type": "code",
   "execution_count": null,
   "metadata": {
    "collapsed": false
   },
   "outputs": [],
   "source": [
    "mtxGenFunc = (size) -> getRandomInvMtxArr(size, -1000, 1000, 100)\n",
    "println(\"Poniżej porównano precyzję wyznaczenia w zależności od metody dla 100 losowych macierzy (użyto normy euklidesowej, pierwsza kolumna oznacza błąd mnożenia wyjściowej macierzy przez jej odwrtoność, a druga w odwrotnej kolejności):\")\n",
    "methodPrecisionTest(100:10:200, mtxGenFunc)"
   ]
  },
  {
   "cell_type": "markdown",
   "metadata": {},
   "source": [
    "### 3. Porównanie precyzji wyznaczenia - macierze z dużymi różnicami wartości elementów"
   ]
  },
  {
   "cell_type": "code",
   "execution_count": null,
   "metadata": {
    "collapsed": false
   },
   "outputs": [],
   "source": [
    "mtxGenFunc = (size) -> getRandomLargeDiffMtxArr(size, -1000, 1000, 100)\n",
    "println(\"Poniżej porównano precyzję wyznaczenia w zależności od metody dla 100 macierzy z dużymi różnicami wartości elementów (użyto normy euklidesowej, pierwsza kolumna oznacza błąd mnożenia wyjściowej macierzy przez jej odwrtoność, a druga w odwrotnej kolejności):\")\n",
    "methodPrecisionTest(100:10:200, mtxGenFunc)"
   ]
  },
  {
   "cell_type": "markdown",
   "metadata": {},
   "source": [
    "### 4. Porównanie precyzji wyznaczenia - macierze źle uwarunkowane"
   ]
  },
  {
   "cell_type": "code",
   "execution_count": null,
   "metadata": {
    "collapsed": false
   },
   "outputs": [],
   "source": [
    "println(\"Poniżej porównano precyzję wyznaczenia w zależności od metody dla macierzy źle uwarunkowanych (użyto normy euklidesowej, pierwsza kolumna oznacza błąd mnożenia wyjściowej macierzy przez jej odwrtoność, a druga w odwrotnej kolejności):\")\n",
    "println(\"Dla macierzy Pei:\")\n",
    "mtxGenFunc = (size) -> [getPeiMtx(size)]\n",
    "methodPrecisionTest(100:10:200, mtxGenFunc)\n",
    "println(\"\\nDla macierzy Hilberta:\")\n",
    "mtxGenFunc = (size) -> [getHibertMtx(size)]\n",
    "methodPrecisionTest(10:10:50, mtxGenFunc)"
   ]
  },
  {
   "cell_type": "code",
   "execution_count": null,
   "metadata": {
    "collapsed": true
   },
   "outputs": [],
   "source": []
  }
 ],
 "metadata": {
  "anaconda-cloud": {},
  "kernelspec": {
   "display_name": "Julia 0.5.0",
   "language": "julia",
   "name": "julia-0.5"
  },
  "language_info": {
   "file_extension": ".jl",
   "mimetype": "application/julia",
   "name": "julia",
   "version": "0.5.0"
  }
 },
 "nbformat": 4,
 "nbformat_minor": 1
}
